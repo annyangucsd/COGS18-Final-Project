{
 "cells": [
  {
   "cell_type": "markdown",
   "id": "25c6af8e",
   "metadata": {},
   "source": [
    "## Final Project Description\n",
    "\n",
    "Welcome to the coffee drink test! In this quiz, you will be talking to a bot who will ask you a series of questions to determine what drink best matches your personality. Based on your answers, the bot will calculate points that will give you a drink reccomendation. Enjoy! \n",
    "\n"
   ]
  },
  {
   "cell_type": "markdown",
   "id": "a835b34d",
   "metadata": {},
   "source": [
    "### Project Code"
   ]
  },
  {
   "cell_type": "code",
   "execution_count": 3,
   "id": "0c58efca",
   "metadata": {},
   "outputs": [],
   "source": [
    "from functions import is_question, remove_punctuation, preparing_answers, select_output, end_chat, happy, sad, diff_type_of_question, drink_reccomendations, main_coffee_chatbot"
   ]
  },
  {
   "cell_type": "code",
   "execution_count": 4,
   "id": "ed874d52",
   "metadata": {},
   "outputs": [
    {
     "name": "stdout",
     "output_type": "stream",
     "text": [
      "Hi, my name is Koffee! I am coffee chatbot, and I will ask you some questions to determine what drink best suits your personality. \n",
      "How are you feeling today?\n",
      "Input:\tgood\n",
      "Koffee:  That's awesome! We're going to start the test!\n",
      "What is your favorite color out of these four? \n",
      "A. Blue \n",
      "B. Pink \n",
      "C. Black \n",
      "D. Red\n",
      "a\n",
      "Which one of these activities would you like to experience? \n",
      "A. Surfing and fishing at the beach \n",
      "B. Reading a romance novel by the fireplace \n",
      "C. Watching a psychological thriller with friends \n",
      "D. Playing aggressive rounds of ping pong with family\n",
      "b\n",
      "What sort of music do you like listening to? \n",
      "A. Jazz \n",
      "B. Classical \n",
      "C. Rap \n",
      "D. Pop\n",
      "c\n",
      "Which animal would you like to domesticate? \n",
      "A. Raccoon \n",
      "B. Ostrich \n",
      "C. Whale \n",
      "D. Flamingo\n",
      "f\n",
      "Please input either 'a', 'b', 'c', or 'd'\n",
      "Which animal would you like to domesticate? \n",
      "A. Raccoon \n",
      "B. Ostrich \n",
      "C. Whale \n",
      "D. Flamingo\n",
      "d\n",
      "What would you like to get with your cafe drink? \n",
      "A. Chocolate-chip cookie \n",
      "B. Brownie \n",
      "C. Strawberry shortcake \n",
      "D. Croissant\n",
      "c\n",
      "Based on your inputs, I reccomend a delicious Black Coffee for you.\n",
      "Enjoy!\n"
     ]
    }
   ],
   "source": [
    "main_coffee_chatbot()"
   ]
  },
  {
   "cell_type": "markdown",
   "id": "18c0d9fa",
   "metadata": {},
   "source": [
    "### Extra Credit\n",
    "1. I've taken an introductory Python course at a community college during middle school, so it was interesting see how my brain felt familar with some of the concepts. I've taken AP Computer Science A during my sophomore year, so I also saw some overlap, but I'm grateful I had the experience so I wasn't completely new to programming. However, I definitely did feel like I was going into this course without prior knowledge. This course has definitely refreshed my knowledge in Python, and I learned more than I expected to.\n",
    "\n",
    "2. I went above and beyond with this project because I took an existing Assignment project and changed it to make it my own.I have ten functions, many of which are elaborate. Even though I've spent hours on end debugging my code, even losing my entire functions file at some point (I had to stare out the window for a good five minutes to come to terms with this reality), I learned a lot of other coding concepts just from research alone. "
   ]
  },
  {
   "cell_type": "code",
   "execution_count": null,
   "id": "1354f104",
   "metadata": {},
   "outputs": [],
   "source": []
  }
 ],
 "metadata": {
  "kernelspec": {
   "display_name": "Python 3 (ipykernel)",
   "language": "python",
   "name": "python3"
  },
  "language_info": {
   "codemirror_mode": {
    "name": "ipython",
    "version": 3
   },
   "file_extension": ".py",
   "mimetype": "text/x-python",
   "name": "python",
   "nbconvert_exporter": "python",
   "pygments_lexer": "ipython3",
   "version": "3.9.5"
  }
 },
 "nbformat": 4,
 "nbformat_minor": 5
}
